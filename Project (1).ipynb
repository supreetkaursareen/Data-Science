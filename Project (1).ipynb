{
  "nbformat": 4,
  "nbformat_minor": 0,
  "metadata": {
    "colab": {
      "provenance": []
    },
    "kernelspec": {
      "name": "python3",
      "display_name": "Python 3"
    },
    "language_info": {
      "name": "python"
    }
  },
  "cells": [
    {
      "cell_type": "markdown",
      "source": [
        "Importing Libraries"
      ],
      "metadata": {
        "id": "eesls1qTD6gf"
      }
    },
    {
      "cell_type": "code",
      "execution_count": 14,
      "metadata": {
        "id": "dtIOfBpiBWV_"
      },
      "outputs": [],
      "source": [
        "import pandas as pd\n",
        "import numpy as np\n",
        "import warnings\n",
        "from sklearn.model_selection import train_test_split\n",
        "from sklearn.preprocessing import StandardScaler\n",
        "from sklearn.linear_model import LogisticRegression\n",
        "from sklearn.metrics import accuracy_score, confusion_matrix, classification_report\n",
        "import matplotlib.pyplot as plt\n",
        "import seaborn as sns\n",
        "\n",
        "\n",
        "warnings.filterwarnings('ignore')\n"
      ]
    },
    {
      "cell_type": "markdown",
      "source": [
        "Loading Dataset"
      ],
      "metadata": {
        "id": "wCF0lUv4EF1s"
      }
    },
    {
      "cell_type": "code",
      "source": [
        "df=pd.read_csv(\"/content/lifestyle_sustainability_data.csv\")\n"
      ],
      "metadata": {
        "id": "PPAamJPHEI7Y"
      },
      "execution_count": 15,
      "outputs": []
    },
    {
      "cell_type": "markdown",
      "source": [
        "Overview of the Data"
      ],
      "metadata": {
        "id": "KfhjH03BEZnJ"
      }
    },
    {
      "cell_type": "code",
      "source": [
        "df.head()"
      ],
      "metadata": {
        "colab": {
          "base_uri": "https://localhost:8080/",
          "height": 347
        },
        "id": "r3iwNKtUEafL",
        "outputId": "84da0906-f402-4911-924d-7e8f47f1a732"
      },
      "execution_count": 16,
      "outputs": [
        {
          "output_type": "execute_result",
          "data": {
            "text/plain": [
              "   ParticipantID  Age  Location             DietType LocalFoodFrequency  \\\n",
              "0              1   35     Urban   Mostly Plant-Based              Often   \n",
              "1              2   28  Suburban             Balanced          Sometimes   \n",
              "2              3   65     Rural  Mostly Animal-Based             Rarely   \n",
              "3              4   42     Urban   Mostly Plant-Based              Often   \n",
              "4              5   31  Suburban             Balanced          Sometimes   \n",
              "\n",
              "  TransportationMode   EnergySource   HomeType  HomeSize ClothingFrequency  \\\n",
              "0               Bike      Renewable  Apartment       800            Rarely   \n",
              "1     Public Transit          Mixed      House      1500         Sometimes   \n",
              "2                Car  Non-Renewable      House      2500             Often   \n",
              "3               Walk      Renewable  Apartment       950         Sometimes   \n",
              "4     Public Transit          Mixed      House      1800             Often   \n",
              "\n",
              "   SustainableBrands  EnvironmentalAwareness CommunityInvolvement  \\\n",
              "0               True                       5                 High   \n",
              "1               True                       4             Moderate   \n",
              "2              False                       2                  Low   \n",
              "3               True                       4             Moderate   \n",
              "4               True                       3                  Low   \n",
              "\n",
              "   MonthlyElectricityConsumption  MonthlyWaterConsumption      Gender  \\\n",
              "0                            100                     1500      Female   \n",
              "1                            250                     3000        Male   \n",
              "2                            400                     4500        Male   \n",
              "3                            150                     2000      Female   \n",
              "4                            300                     3500  Non-Binary   \n",
              "\n",
              "  UsingPlasticProducts DisposalMethods PhysicalActivities  Rating  \n",
              "0               Rarely      Composting               High       5  \n",
              "1            Sometimes       Recycling           Moderate       4  \n",
              "2                Often        Landfill                Low       1  \n",
              "3               Rarely       Recycling               High       5  \n",
              "4            Sometimes     Combination           Moderate       3  "
            ],
            "text/html": [
              "\n",
              "  <div id=\"df-e919ad24-a230-4425-846b-ba0901497134\" class=\"colab-df-container\">\n",
              "    <div>\n",
              "<style scoped>\n",
              "    .dataframe tbody tr th:only-of-type {\n",
              "        vertical-align: middle;\n",
              "    }\n",
              "\n",
              "    .dataframe tbody tr th {\n",
              "        vertical-align: top;\n",
              "    }\n",
              "\n",
              "    .dataframe thead th {\n",
              "        text-align: right;\n",
              "    }\n",
              "</style>\n",
              "<table border=\"1\" class=\"dataframe\">\n",
              "  <thead>\n",
              "    <tr style=\"text-align: right;\">\n",
              "      <th></th>\n",
              "      <th>ParticipantID</th>\n",
              "      <th>Age</th>\n",
              "      <th>Location</th>\n",
              "      <th>DietType</th>\n",
              "      <th>LocalFoodFrequency</th>\n",
              "      <th>TransportationMode</th>\n",
              "      <th>EnergySource</th>\n",
              "      <th>HomeType</th>\n",
              "      <th>HomeSize</th>\n",
              "      <th>ClothingFrequency</th>\n",
              "      <th>SustainableBrands</th>\n",
              "      <th>EnvironmentalAwareness</th>\n",
              "      <th>CommunityInvolvement</th>\n",
              "      <th>MonthlyElectricityConsumption</th>\n",
              "      <th>MonthlyWaterConsumption</th>\n",
              "      <th>Gender</th>\n",
              "      <th>UsingPlasticProducts</th>\n",
              "      <th>DisposalMethods</th>\n",
              "      <th>PhysicalActivities</th>\n",
              "      <th>Rating</th>\n",
              "    </tr>\n",
              "  </thead>\n",
              "  <tbody>\n",
              "    <tr>\n",
              "      <th>0</th>\n",
              "      <td>1</td>\n",
              "      <td>35</td>\n",
              "      <td>Urban</td>\n",
              "      <td>Mostly Plant-Based</td>\n",
              "      <td>Often</td>\n",
              "      <td>Bike</td>\n",
              "      <td>Renewable</td>\n",
              "      <td>Apartment</td>\n",
              "      <td>800</td>\n",
              "      <td>Rarely</td>\n",
              "      <td>True</td>\n",
              "      <td>5</td>\n",
              "      <td>High</td>\n",
              "      <td>100</td>\n",
              "      <td>1500</td>\n",
              "      <td>Female</td>\n",
              "      <td>Rarely</td>\n",
              "      <td>Composting</td>\n",
              "      <td>High</td>\n",
              "      <td>5</td>\n",
              "    </tr>\n",
              "    <tr>\n",
              "      <th>1</th>\n",
              "      <td>2</td>\n",
              "      <td>28</td>\n",
              "      <td>Suburban</td>\n",
              "      <td>Balanced</td>\n",
              "      <td>Sometimes</td>\n",
              "      <td>Public Transit</td>\n",
              "      <td>Mixed</td>\n",
              "      <td>House</td>\n",
              "      <td>1500</td>\n",
              "      <td>Sometimes</td>\n",
              "      <td>True</td>\n",
              "      <td>4</td>\n",
              "      <td>Moderate</td>\n",
              "      <td>250</td>\n",
              "      <td>3000</td>\n",
              "      <td>Male</td>\n",
              "      <td>Sometimes</td>\n",
              "      <td>Recycling</td>\n",
              "      <td>Moderate</td>\n",
              "      <td>4</td>\n",
              "    </tr>\n",
              "    <tr>\n",
              "      <th>2</th>\n",
              "      <td>3</td>\n",
              "      <td>65</td>\n",
              "      <td>Rural</td>\n",
              "      <td>Mostly Animal-Based</td>\n",
              "      <td>Rarely</td>\n",
              "      <td>Car</td>\n",
              "      <td>Non-Renewable</td>\n",
              "      <td>House</td>\n",
              "      <td>2500</td>\n",
              "      <td>Often</td>\n",
              "      <td>False</td>\n",
              "      <td>2</td>\n",
              "      <td>Low</td>\n",
              "      <td>400</td>\n",
              "      <td>4500</td>\n",
              "      <td>Male</td>\n",
              "      <td>Often</td>\n",
              "      <td>Landfill</td>\n",
              "      <td>Low</td>\n",
              "      <td>1</td>\n",
              "    </tr>\n",
              "    <tr>\n",
              "      <th>3</th>\n",
              "      <td>4</td>\n",
              "      <td>42</td>\n",
              "      <td>Urban</td>\n",
              "      <td>Mostly Plant-Based</td>\n",
              "      <td>Often</td>\n",
              "      <td>Walk</td>\n",
              "      <td>Renewable</td>\n",
              "      <td>Apartment</td>\n",
              "      <td>950</td>\n",
              "      <td>Sometimes</td>\n",
              "      <td>True</td>\n",
              "      <td>4</td>\n",
              "      <td>Moderate</td>\n",
              "      <td>150</td>\n",
              "      <td>2000</td>\n",
              "      <td>Female</td>\n",
              "      <td>Rarely</td>\n",
              "      <td>Recycling</td>\n",
              "      <td>High</td>\n",
              "      <td>5</td>\n",
              "    </tr>\n",
              "    <tr>\n",
              "      <th>4</th>\n",
              "      <td>5</td>\n",
              "      <td>31</td>\n",
              "      <td>Suburban</td>\n",
              "      <td>Balanced</td>\n",
              "      <td>Sometimes</td>\n",
              "      <td>Public Transit</td>\n",
              "      <td>Mixed</td>\n",
              "      <td>House</td>\n",
              "      <td>1800</td>\n",
              "      <td>Often</td>\n",
              "      <td>True</td>\n",
              "      <td>3</td>\n",
              "      <td>Low</td>\n",
              "      <td>300</td>\n",
              "      <td>3500</td>\n",
              "      <td>Non-Binary</td>\n",
              "      <td>Sometimes</td>\n",
              "      <td>Combination</td>\n",
              "      <td>Moderate</td>\n",
              "      <td>3</td>\n",
              "    </tr>\n",
              "  </tbody>\n",
              "</table>\n",
              "</div>\n",
              "    <div class=\"colab-df-buttons\">\n",
              "\n",
              "  <div class=\"colab-df-container\">\n",
              "    <button class=\"colab-df-convert\" onclick=\"convertToInteractive('df-e919ad24-a230-4425-846b-ba0901497134')\"\n",
              "            title=\"Convert this dataframe to an interactive table.\"\n",
              "            style=\"display:none;\">\n",
              "\n",
              "  <svg xmlns=\"http://www.w3.org/2000/svg\" height=\"24px\" viewBox=\"0 -960 960 960\">\n",
              "    <path d=\"M120-120v-720h720v720H120Zm60-500h600v-160H180v160Zm220 220h160v-160H400v160Zm0 220h160v-160H400v160ZM180-400h160v-160H180v160Zm440 0h160v-160H620v160ZM180-180h160v-160H180v160Zm440 0h160v-160H620v160Z\"/>\n",
              "  </svg>\n",
              "    </button>\n",
              "\n",
              "  <style>\n",
              "    .colab-df-container {\n",
              "      display:flex;\n",
              "      gap: 12px;\n",
              "    }\n",
              "\n",
              "    .colab-df-convert {\n",
              "      background-color: #E8F0FE;\n",
              "      border: none;\n",
              "      border-radius: 50%;\n",
              "      cursor: pointer;\n",
              "      display: none;\n",
              "      fill: #1967D2;\n",
              "      height: 32px;\n",
              "      padding: 0 0 0 0;\n",
              "      width: 32px;\n",
              "    }\n",
              "\n",
              "    .colab-df-convert:hover {\n",
              "      background-color: #E2EBFA;\n",
              "      box-shadow: 0px 1px 2px rgba(60, 64, 67, 0.3), 0px 1px 3px 1px rgba(60, 64, 67, 0.15);\n",
              "      fill: #174EA6;\n",
              "    }\n",
              "\n",
              "    .colab-df-buttons div {\n",
              "      margin-bottom: 4px;\n",
              "    }\n",
              "\n",
              "    [theme=dark] .colab-df-convert {\n",
              "      background-color: #3B4455;\n",
              "      fill: #D2E3FC;\n",
              "    }\n",
              "\n",
              "    [theme=dark] .colab-df-convert:hover {\n",
              "      background-color: #434B5C;\n",
              "      box-shadow: 0px 1px 3px 1px rgba(0, 0, 0, 0.15);\n",
              "      filter: drop-shadow(0px 1px 2px rgba(0, 0, 0, 0.3));\n",
              "      fill: #FFFFFF;\n",
              "    }\n",
              "  </style>\n",
              "\n",
              "    <script>\n",
              "      const buttonEl =\n",
              "        document.querySelector('#df-e919ad24-a230-4425-846b-ba0901497134 button.colab-df-convert');\n",
              "      buttonEl.style.display =\n",
              "        google.colab.kernel.accessAllowed ? 'block' : 'none';\n",
              "\n",
              "      async function convertToInteractive(key) {\n",
              "        const element = document.querySelector('#df-e919ad24-a230-4425-846b-ba0901497134');\n",
              "        const dataTable =\n",
              "          await google.colab.kernel.invokeFunction('convertToInteractive',\n",
              "                                                    [key], {});\n",
              "        if (!dataTable) return;\n",
              "\n",
              "        const docLinkHtml = 'Like what you see? Visit the ' +\n",
              "          '<a target=\"_blank\" href=https://colab.research.google.com/notebooks/data_table.ipynb>data table notebook</a>'\n",
              "          + ' to learn more about interactive tables.';\n",
              "        element.innerHTML = '';\n",
              "        dataTable['output_type'] = 'display_data';\n",
              "        await google.colab.output.renderOutput(dataTable, element);\n",
              "        const docLink = document.createElement('div');\n",
              "        docLink.innerHTML = docLinkHtml;\n",
              "        element.appendChild(docLink);\n",
              "      }\n",
              "    </script>\n",
              "  </div>\n",
              "\n",
              "\n",
              "<div id=\"df-9de875c0-8ac3-4e25-b8d2-55784fd15995\">\n",
              "  <button class=\"colab-df-quickchart\" onclick=\"quickchart('df-9de875c0-8ac3-4e25-b8d2-55784fd15995')\"\n",
              "            title=\"Suggest charts\"\n",
              "            style=\"display:none;\">\n",
              "\n",
              "<svg xmlns=\"http://www.w3.org/2000/svg\" height=\"24px\"viewBox=\"0 0 24 24\"\n",
              "     width=\"24px\">\n",
              "    <g>\n",
              "        <path d=\"M19 3H5c-1.1 0-2 .9-2 2v14c0 1.1.9 2 2 2h14c1.1 0 2-.9 2-2V5c0-1.1-.9-2-2-2zM9 17H7v-7h2v7zm4 0h-2V7h2v10zm4 0h-2v-4h2v4z\"/>\n",
              "    </g>\n",
              "</svg>\n",
              "  </button>\n",
              "\n",
              "<style>\n",
              "  .colab-df-quickchart {\n",
              "      --bg-color: #E8F0FE;\n",
              "      --fill-color: #1967D2;\n",
              "      --hover-bg-color: #E2EBFA;\n",
              "      --hover-fill-color: #174EA6;\n",
              "      --disabled-fill-color: #AAA;\n",
              "      --disabled-bg-color: #DDD;\n",
              "  }\n",
              "\n",
              "  [theme=dark] .colab-df-quickchart {\n",
              "      --bg-color: #3B4455;\n",
              "      --fill-color: #D2E3FC;\n",
              "      --hover-bg-color: #434B5C;\n",
              "      --hover-fill-color: #FFFFFF;\n",
              "      --disabled-bg-color: #3B4455;\n",
              "      --disabled-fill-color: #666;\n",
              "  }\n",
              "\n",
              "  .colab-df-quickchart {\n",
              "    background-color: var(--bg-color);\n",
              "    border: none;\n",
              "    border-radius: 50%;\n",
              "    cursor: pointer;\n",
              "    display: none;\n",
              "    fill: var(--fill-color);\n",
              "    height: 32px;\n",
              "    padding: 0;\n",
              "    width: 32px;\n",
              "  }\n",
              "\n",
              "  .colab-df-quickchart:hover {\n",
              "    background-color: var(--hover-bg-color);\n",
              "    box-shadow: 0 1px 2px rgba(60, 64, 67, 0.3), 0 1px 3px 1px rgba(60, 64, 67, 0.15);\n",
              "    fill: var(--button-hover-fill-color);\n",
              "  }\n",
              "\n",
              "  .colab-df-quickchart-complete:disabled,\n",
              "  .colab-df-quickchart-complete:disabled:hover {\n",
              "    background-color: var(--disabled-bg-color);\n",
              "    fill: var(--disabled-fill-color);\n",
              "    box-shadow: none;\n",
              "  }\n",
              "\n",
              "  .colab-df-spinner {\n",
              "    border: 2px solid var(--fill-color);\n",
              "    border-color: transparent;\n",
              "    border-bottom-color: var(--fill-color);\n",
              "    animation:\n",
              "      spin 1s steps(1) infinite;\n",
              "  }\n",
              "\n",
              "  @keyframes spin {\n",
              "    0% {\n",
              "      border-color: transparent;\n",
              "      border-bottom-color: var(--fill-color);\n",
              "      border-left-color: var(--fill-color);\n",
              "    }\n",
              "    20% {\n",
              "      border-color: transparent;\n",
              "      border-left-color: var(--fill-color);\n",
              "      border-top-color: var(--fill-color);\n",
              "    }\n",
              "    30% {\n",
              "      border-color: transparent;\n",
              "      border-left-color: var(--fill-color);\n",
              "      border-top-color: var(--fill-color);\n",
              "      border-right-color: var(--fill-color);\n",
              "    }\n",
              "    40% {\n",
              "      border-color: transparent;\n",
              "      border-right-color: var(--fill-color);\n",
              "      border-top-color: var(--fill-color);\n",
              "    }\n",
              "    60% {\n",
              "      border-color: transparent;\n",
              "      border-right-color: var(--fill-color);\n",
              "    }\n",
              "    80% {\n",
              "      border-color: transparent;\n",
              "      border-right-color: var(--fill-color);\n",
              "      border-bottom-color: var(--fill-color);\n",
              "    }\n",
              "    90% {\n",
              "      border-color: transparent;\n",
              "      border-bottom-color: var(--fill-color);\n",
              "    }\n",
              "  }\n",
              "</style>\n",
              "\n",
              "  <script>\n",
              "    async function quickchart(key) {\n",
              "      const quickchartButtonEl =\n",
              "        document.querySelector('#' + key + ' button');\n",
              "      quickchartButtonEl.disabled = true;  // To prevent multiple clicks.\n",
              "      quickchartButtonEl.classList.add('colab-df-spinner');\n",
              "      try {\n",
              "        const charts = await google.colab.kernel.invokeFunction(\n",
              "            'suggestCharts', [key], {});\n",
              "      } catch (error) {\n",
              "        console.error('Error during call to suggestCharts:', error);\n",
              "      }\n",
              "      quickchartButtonEl.classList.remove('colab-df-spinner');\n",
              "      quickchartButtonEl.classList.add('colab-df-quickchart-complete');\n",
              "    }\n",
              "    (() => {\n",
              "      let quickchartButtonEl =\n",
              "        document.querySelector('#df-9de875c0-8ac3-4e25-b8d2-55784fd15995 button');\n",
              "      quickchartButtonEl.style.display =\n",
              "        google.colab.kernel.accessAllowed ? 'block' : 'none';\n",
              "    })();\n",
              "  </script>\n",
              "</div>\n",
              "\n",
              "    </div>\n",
              "  </div>\n"
            ],
            "application/vnd.google.colaboratory.intrinsic+json": {
              "type": "dataframe",
              "variable_name": "df",
              "summary": "{\n  \"name\": \"df\",\n  \"rows\": 499,\n  \"fields\": [\n    {\n      \"column\": \"ParticipantID\",\n      \"properties\": {\n        \"dtype\": \"number\",\n        \"std\": 144,\n        \"min\": 1,\n        \"max\": 500,\n        \"num_unique_values\": 499,\n        \"samples\": [\n          461,\n          74,\n          232\n        ],\n        \"semantic_type\": \"\",\n        \"description\": \"\"\n      }\n    },\n    {\n      \"column\": \"Age\",\n      \"properties\": {\n        \"dtype\": \"number\",\n        \"std\": 14,\n        \"min\": 18,\n        \"max\": 96,\n        \"num_unique_values\": 60,\n        \"samples\": [\n          35,\n          58,\n          47\n        ],\n        \"semantic_type\": \"\",\n        \"description\": \"\"\n      }\n    },\n    {\n      \"column\": \"Location\",\n      \"properties\": {\n        \"dtype\": \"category\",\n        \"num_unique_values\": 3,\n        \"samples\": [\n          \"Urban\",\n          \"Suburban\",\n          \"Rural\"\n        ],\n        \"semantic_type\": \"\",\n        \"description\": \"\"\n      }\n    },\n    {\n      \"column\": \"DietType\",\n      \"properties\": {\n        \"dtype\": \"category\",\n        \"num_unique_values\": 3,\n        \"samples\": [\n          \"Mostly Plant-Based\",\n          \"Balanced\",\n          \"Mostly Animal-Based\"\n        ],\n        \"semantic_type\": \"\",\n        \"description\": \"\"\n      }\n    },\n    {\n      \"column\": \"LocalFoodFrequency\",\n      \"properties\": {\n        \"dtype\": \"category\",\n        \"num_unique_values\": 4,\n        \"samples\": [\n          \"Sometimes\",\n          \"Always\",\n          \"Often\"\n        ],\n        \"semantic_type\": \"\",\n        \"description\": \"\"\n      }\n    },\n    {\n      \"column\": \"TransportationMode\",\n      \"properties\": {\n        \"dtype\": \"category\",\n        \"num_unique_values\": 4,\n        \"samples\": [\n          \"Public Transit\",\n          \"Walk\",\n          \"Bike\"\n        ],\n        \"semantic_type\": \"\",\n        \"description\": \"\"\n      }\n    },\n    {\n      \"column\": \"EnergySource\",\n      \"properties\": {\n        \"dtype\": \"category\",\n        \"num_unique_values\": 3,\n        \"samples\": [\n          \"Renewable\",\n          \"Mixed\",\n          \"Non-Renewable\"\n        ],\n        \"semantic_type\": \"\",\n        \"description\": \"\"\n      }\n    },\n    {\n      \"column\": \"HomeType\",\n      \"properties\": {\n        \"dtype\": \"category\",\n        \"num_unique_values\": 3,\n        \"samples\": [\n          \"Apartment\",\n          \"House\",\n          \"Other\"\n        ],\n        \"semantic_type\": \"\",\n        \"description\": \"\"\n      }\n    },\n    {\n      \"column\": \"HomeSize\",\n      \"properties\": {\n        \"dtype\": \"number\",\n        \"std\": 672,\n        \"min\": 407,\n        \"max\": 2997,\n        \"num_unique_values\": 362,\n        \"samples\": [\n          2747,\n          1250,\n          1900\n        ],\n        \"semantic_type\": \"\",\n        \"description\": \"\"\n      }\n    },\n    {\n      \"column\": \"ClothingFrequency\",\n      \"properties\": {\n        \"dtype\": \"category\",\n        \"num_unique_values\": 4,\n        \"samples\": [\n          \"Sometimes\",\n          \"Always\",\n          \"Rarely\"\n        ],\n        \"semantic_type\": \"\",\n        \"description\": \"\"\n      }\n    },\n    {\n      \"column\": \"SustainableBrands\",\n      \"properties\": {\n        \"dtype\": \"boolean\",\n        \"num_unique_values\": 2,\n        \"samples\": [\n          false,\n          true\n        ],\n        \"semantic_type\": \"\",\n        \"description\": \"\"\n      }\n    },\n    {\n      \"column\": \"EnvironmentalAwareness\",\n      \"properties\": {\n        \"dtype\": \"number\",\n        \"std\": 1,\n        \"min\": 1,\n        \"max\": 5,\n        \"num_unique_values\": 5,\n        \"samples\": [\n          4,\n          1\n        ],\n        \"semantic_type\": \"\",\n        \"description\": \"\"\n      }\n    },\n    {\n      \"column\": \"CommunityInvolvement\",\n      \"properties\": {\n        \"dtype\": \"category\",\n        \"num_unique_values\": 3,\n        \"samples\": [\n          \"High\",\n          \"Moderate\"\n        ],\n        \"semantic_type\": \"\",\n        \"description\": \"\"\n      }\n    },\n    {\n      \"column\": \"MonthlyElectricityConsumption\",\n      \"properties\": {\n        \"dtype\": \"number\",\n        \"std\": 120,\n        \"min\": 55,\n        \"max\": 498,\n        \"num_unique_values\": 224,\n        \"samples\": [\n          380,\n          409\n        ],\n        \"semantic_type\": \"\",\n        \"description\": \"\"\n      }\n    },\n    {\n      \"column\": \"MonthlyWaterConsumption\",\n      \"properties\": {\n        \"dtype\": \"number\",\n        \"std\": 1224,\n        \"min\": 536,\n        \"max\": 5250,\n        \"num_unique_values\": 295,\n        \"samples\": [\n          3819,\n          1908\n        ],\n        \"semantic_type\": \"\",\n        \"description\": \"\"\n      }\n    },\n    {\n      \"column\": \"Gender\",\n      \"properties\": {\n        \"dtype\": \"category\",\n        \"num_unique_values\": 4,\n        \"samples\": [\n          \"Male\",\n          \"Prefer not to say\"\n        ],\n        \"semantic_type\": \"\",\n        \"description\": \"\"\n      }\n    },\n    {\n      \"column\": \"UsingPlasticProducts\",\n      \"properties\": {\n        \"dtype\": \"category\",\n        \"num_unique_values\": 4,\n        \"samples\": [\n          \"Sometimes\",\n          \"Never\"\n        ],\n        \"semantic_type\": \"\",\n        \"description\": \"\"\n      }\n    },\n    {\n      \"column\": \"DisposalMethods\",\n      \"properties\": {\n        \"dtype\": \"category\",\n        \"num_unique_values\": 4,\n        \"samples\": [\n          \"Recycling\",\n          \"Combination\"\n        ],\n        \"semantic_type\": \"\",\n        \"description\": \"\"\n      }\n    },\n    {\n      \"column\": \"PhysicalActivities\",\n      \"properties\": {\n        \"dtype\": \"category\",\n        \"num_unique_values\": 3,\n        \"samples\": [\n          \"High\",\n          \"Moderate\"\n        ],\n        \"semantic_type\": \"\",\n        \"description\": \"\"\n      }\n    },\n    {\n      \"column\": \"Rating\",\n      \"properties\": {\n        \"dtype\": \"number\",\n        \"std\": 1,\n        \"min\": 1,\n        \"max\": 5,\n        \"num_unique_values\": 5,\n        \"samples\": [\n          4,\n          2\n        ],\n        \"semantic_type\": \"\",\n        \"description\": \"\"\n      }\n    }\n  ]\n}"
            }
          },
          "metadata": {},
          "execution_count": 16
        }
      ]
    },
    {
      "cell_type": "code",
      "source": [
        "print(df.columns)"
      ],
      "metadata": {
        "colab": {
          "base_uri": "https://localhost:8080/"
        },
        "id": "V_1lmlbx0rey",
        "outputId": "73d4e187-ef8b-454c-89cc-bfd082ba3bf5"
      },
      "execution_count": 17,
      "outputs": [
        {
          "output_type": "stream",
          "name": "stdout",
          "text": [
            "Index(['ParticipantID', 'Age', 'Location', 'DietType', 'LocalFoodFrequency',\n",
            "       'TransportationMode', 'EnergySource', 'HomeType', 'HomeSize',\n",
            "       'ClothingFrequency', 'SustainableBrands', 'EnvironmentalAwareness',\n",
            "       'CommunityInvolvement', 'MonthlyElectricityConsumption',\n",
            "       'MonthlyWaterConsumption', 'Gender', 'UsingPlasticProducts',\n",
            "       'DisposalMethods', 'PhysicalActivities', 'Rating'],\n",
            "      dtype='object')\n"
          ]
        }
      ]
    },
    {
      "cell_type": "code",
      "source": [
        "import matplotlib.pyplot as plt\n",
        "\n",
        "# Create a histogram to visualize the distribution of sustainability ratings\n",
        "plt.figure(figsize=(10, 6))\n",
        "plt.hist(df['Rating'], bins=10, color='skyblue', edgecolor='black')\n",
        "plt.title('Distribution of Sustainability Ratings')\n",
        "plt.xlabel('Sustainability Rating')\n",
        "plt.ylabel('Frequency')\n",
        "plt.grid(axis='y', alpha=0.75)\n",
        "plt.show()\n"
      ],
      "metadata": {
        "colab": {
          "base_uri": "https://localhost:8080/",
          "height": 564
        },
        "id": "j7C9hXW01SEG",
        "outputId": "fa94ba48-edc3-485e-970a-c7282d624efe"
      },
      "execution_count": 21,
      "outputs": [
        {
          "output_type": "display_data",
          "data": {
            "text/plain": [
              "<Figure size 1000x600 with 1 Axes>"
            ],
            "image/png": "[encoded data removed]"
          },
          "metadata": {}
        }
      ]
    },
    {
      "cell_type": "code",
      "source": [
        "category_counts = df['DietType'].value_counts()\n",
        "\n",
        "# Create a bar plot for categorical data\n",
        "plt.figure(figsize=(10, 6))\n",
        "plt.bar(category_counts.index, category_counts.values, color='skyblue', edgecolor='black')\n",
        "plt.title('Count of Categories')\n",
        "plt.xlabel('Category')\n",
        "plt.ylabel('Count')\n",
        "plt.xticks(rotation=45)  # Rotate x labels for better visibility\n",
        "plt.show()\n",
        "\n",
        "\n",
        "\n",
        "\n",
        "\n",
        "\n",
        "\n",
        "\n"
      ],
      "metadata": {
        "colab": {
          "base_uri": "https://localhost:8080/",
          "height": 662
        },
        "id": "I9c2jfJT0Ncd",
        "outputId": "4c85480b-1231-47d8-ccca-8110c1eb652b"
      },
      "execution_count": 19,
      "outputs": [
        {
          "output_type": "display_data",
          "data": {
            "text/plain": [
              "<Figure size 1000x600 with 1 Axes>"
            ],
            "image/png": "[encoded data removed]"
          },
          "metadata": {}
        }
      ]
    },
    {
      "cell_type": "code",
      "source": [
        "df.info()"
      ],
      "metadata": {
        "colab": {
          "base_uri": "https://localhost:8080/"
        },
        "id": "-m5VQXg5Eui5",
        "outputId": "1bbed97d-e4dd-4bee-d7d5-43d2ed6d5331"
      },
      "execution_count": 4,
      "outputs": [
        {
          "output_type": "stream",
          "name": "stdout",
          "text": [
            "<class 'pandas.core.frame.DataFrame'>\n",
            "RangeIndex: 499 entries, 0 to 498\n",
            "Data columns (total 20 columns):\n",
            " #   Column                         Non-Null Count  Dtype \n",
            "---  ------                         --------------  ----- \n",
            " 0   ParticipantID                  499 non-null    int64 \n",
            " 1   Age                            499 non-null    int64 \n",
            " 2   Location                       499 non-null    object\n",
            " 3   DietType                       499 non-null    object\n",
            " 4   LocalFoodFrequency             499 non-null    object\n",
            " 5   TransportationMode             499 non-null    object\n",
            " 6   EnergySource                   499 non-null    object\n",
            " 7   HomeType                       499 non-null    object\n",
            " 8   HomeSize                       499 non-null    int64 \n",
            " 9   ClothingFrequency              499 non-null    object\n",
            " 10  SustainableBrands              499 non-null    bool  \n",
            " 11  EnvironmentalAwareness         499 non-null    int64 \n",
            " 12  CommunityInvolvement           381 non-null    object\n",
            " 13  MonthlyElectricityConsumption  499 non-null    int64 \n",
            " 14  MonthlyWaterConsumption        499 non-null    int64 \n",
            " 15  Gender                         499 non-null    object\n",
            " 16  UsingPlasticProducts           499 non-null    object\n",
            " 17  DisposalMethods                499 non-null    object\n",
            " 18  PhysicalActivities             391 non-null    object\n",
            " 19  Rating                         499 non-null    int64 \n",
            "dtypes: bool(1), int64(7), object(12)\n",
            "memory usage: 74.7+ KB\n"
          ]
        }
      ]
    },
    {
      "cell_type": "code",
      "source": [],
      "metadata": {
        "id": "0q1g-bvd0ECw"
      },
      "execution_count": null,
      "outputs": []
    },
    {
      "cell_type": "markdown",
      "source": [
        "Drop unnecessary column"
      ],
      "metadata": {
        "id": "mk-iRfNLSoe_"
      }
    },
    {
      "cell_type": "code",
      "source": [
        "columns_to_drop = ['Age', 'Gender']  # Replace with actual column names\n",
        "df_cleaned = df.drop(columns=columns_to_drop)"
      ],
      "metadata": {
        "id": "GEzsv-0NP5aZ"
      },
      "execution_count": 5,
      "outputs": []
    },
    {
      "cell_type": "markdown",
      "source": [
        "Convert categorical variables to numerical using one-hot encoding"
      ],
      "metadata": {
        "id": "_qPQt5sCKcAU"
      }
    },
    {
      "cell_type": "code",
      "source": [
        "df_encoded = pd.get_dummies(df, drop_first=True)"
      ],
      "metadata": {
        "id": "Nr3v2Gf-Eytu"
      },
      "execution_count": null,
      "outputs": []
    },
    {
      "cell_type": "markdown",
      "source": [
        "Convert the Rating to Binary"
      ],
      "metadata": {
        "id": "MJouwYrqKzaS"
      }
    },
    {
      "cell_type": "code",
      "source": [
        "\n",
        "df_encoded['Rating_Binary'] = df_encoded['Rating'].apply(lambda x: 1 if x == 5 else 0)\n",
        "\n"
      ],
      "metadata": {
        "id": "2pfb_HkvK0CA"
      },
      "execution_count": null,
      "outputs": []
    },
    {
      "cell_type": "markdown",
      "source": [
        "Checking the Distribution of the Binary Target Variable"
      ],
      "metadata": {
        "id": "www98dWyMYzK"
      }
    },
    {
      "cell_type": "code",
      "source": [
        "print(df_encoded['Rating_Binary'].value_counts())"
      ],
      "metadata": {
        "colab": {
          "base_uri": "https://localhost:8080/"
        },
        "id": "Z4pAkoR2KaQG",
        "outputId": "93052bc6-facd-465b-a9e7-6477025cc71c"
      },
      "execution_count": null,
      "outputs": [
        {
          "output_type": "stream",
          "name": "stdout",
          "text": [
            "Rating_Binary\n",
            "0    323\n",
            "1    176\n",
            "Name: count, dtype: int64\n"
          ]
        }
      ]
    },
    {
      "cell_type": "markdown",
      "source": [
        "Define Features and Target Variable"
      ],
      "metadata": {
        "id": "uNRj8H31MqaZ"
      }
    },
    {
      "cell_type": "code",
      "source": [
        "\n",
        "X = df_encoded.drop(['Rating', 'Rating_Binary'], axis=1)\n",
        "y = df_encoded['Rating_Binary']\n"
      ],
      "metadata": {
        "id": "OkhUgNJtMmtW"
      },
      "execution_count": null,
      "outputs": []
    },
    {
      "cell_type": "markdown",
      "source": [
        "Split the Dataset"
      ],
      "metadata": {
        "id": "TEy9TkyXMyy3"
      }
    },
    {
      "cell_type": "code",
      "source": [
        "\n",
        "X_train, X_test, y_train, y_test = train_test_split(X, y, test_size=0.3, random_state=42)\n"
      ],
      "metadata": {
        "id": "MyPw6hI1MuVF"
      },
      "execution_count": null,
      "outputs": []
    },
    {
      "cell_type": "markdown",
      "source": [
        " Feature Scaling"
      ],
      "metadata": {
        "id": "_8MnraqQM2NE"
      }
    },
    {
      "cell_type": "code",
      "source": [
        "scaler = StandardScaler()\n",
        "X_train = scaler.fit_transform(X_train)\n",
        "X_test = scaler.transform(X_test)"
      ],
      "metadata": {
        "id": "uVqZDqzZM4hV"
      },
      "execution_count": null,
      "outputs": []
    },
    {
      "cell_type": "markdown",
      "source": [
        " Train the Logistic Regression Model"
      ],
      "metadata": {
        "id": "gSH0_IURNDmY"
      }
    },
    {
      "cell_type": "code",
      "source": [
        "model = LogisticRegression()\n",
        "model.fit(X_train, y_train)"
      ],
      "metadata": {
        "colab": {
          "base_uri": "https://localhost:8080/",
          "height": 74
        },
        "id": "LuMk0DOSNEX_",
        "outputId": "d959412c-70d6-48b5-f350-9d071b9674cb"
      },
      "execution_count": null,
      "outputs": [
        {
          "output_type": "execute_result",
          "data": {
            "text/plain": [
              "LogisticRegression()"
            ],
            "text/html": [
              "<style>#sk-container-id-2 {color: black;}#sk-container-id-2 pre{padding: 0;}#sk-container-id-2 div.sk-toggleable {background-color: white;}#sk-container-id-2 label.sk-toggleable__label {cursor: pointer;display: block;width: 100%;margin-bottom: 0;padding: 0.3em;box-sizing: border-box;text-align: center;}#sk-container-id-2 label.sk-toggleable__label-arrow:before {content: \"▸\";float: left;margin-right: 0.25em;color: #696969;}#sk-container-id-2 label.sk-toggleable__label-arrow:hover:before {color: black;}#sk-container-id-2 div.sk-estimator:hover label.sk-toggleable__label-arrow:before {color: black;}#sk-container-id-2 div.sk-toggleable__content {max-height: 0;max-width: 0;overflow: hidden;text-align: left;background-color: #f0f8ff;}#sk-container-id-2 div.sk-toggleable__content pre {margin: 0.2em;color: black;border-radius: 0.25em;background-color: #f0f8ff;}#sk-container-id-2 input.sk-toggleable__control:checked~div.sk-toggleable__content {max-height: 200px;max-width: 100%;overflow: auto;}#sk-container-id-2 input.sk-toggleable__control:checked~label.sk-toggleable__label-arrow:before {content: \"▾\";}#sk-container-id-2 div.sk-estimator input.sk-toggleable__control:checked~label.sk-toggleable__label {background-color: #d4ebff;}#sk-container-id-2 div.sk-label input.sk-toggleable__control:checked~label.sk-toggleable__label {background-color: #d4ebff;}#sk-container-id-2 input.sk-hidden--visually {border: 0;clip: rect(1px 1px 1px 1px);clip: rect(1px, 1px, 1px, 1px);height: 1px;margin: -1px;overflow: hidden;padding: 0;position: absolute;width: 1px;}#sk-container-id-2 div.sk-estimator {font-family: monospace;background-color: #f0f8ff;border: 1px dotted black;border-radius: 0.25em;box-sizing: border-box;margin-bottom: 0.5em;}#sk-container-id-2 div.sk-estimator:hover {background-color: #d4ebff;}#sk-container-id-2 div.sk-parallel-item::after {content: \"\";width: 100%;border-bottom: 1px solid gray;flex-grow: 1;}#sk-container-id-2 div.sk-label:hover label.sk-toggleable__label {background-color: #d4ebff;}#sk-container-id-2 div.sk-serial::before {content: \"\";position: absolute;border-left: 1px solid gray;box-sizing: border-box;top: 0;bottom: 0;left: 50%;z-index: 0;}#sk-container-id-2 div.sk-serial {display: flex;flex-direction: column;align-items: center;background-color: white;padding-right: 0.2em;padding-left: 0.2em;position: relative;}#sk-container-id-2 div.sk-item {position: relative;z-index: 1;}#sk-container-id-2 div.sk-parallel {display: flex;align-items: stretch;justify-content: center;background-color: white;position: relative;}#sk-container-id-2 div.sk-item::before, #sk-container-id-2 div.sk-parallel-item::before {content: \"\";position: absolute;border-left: 1px solid gray;box-sizing: border-box;top: 0;bottom: 0;left: 50%;z-index: -1;}#sk-container-id-2 div.sk-parallel-item {display: flex;flex-direction: column;z-index: 1;position: relative;background-color: white;}#sk-container-id-2 div.sk-parallel-item:first-child::after {align-self: flex-end;width: 50%;}#sk-container-id-2 div.sk-parallel-item:last-child::after {align-self: flex-start;width: 50%;}#sk-container-id-2 div.sk-parallel-item:only-child::after {width: 0;}#sk-container-id-2 div.sk-dashed-wrapped {border: 1px dashed gray;margin: 0 0.4em 0.5em 0.4em;box-sizing: border-box;padding-bottom: 0.4em;background-color: white;}#sk-container-id-2 div.sk-label label {font-family: monospace;font-weight: bold;display: inline-block;line-height: 1.2em;}#sk-container-id-2 div.sk-label-container {text-align: center;}#sk-container-id-2 div.sk-container {/* jupyter's `normalize.less` sets `[hidden] { display: none; }` but bootstrap.min.css set `[hidden] { display: none !important; }` so we also need the `!important` here to be able to override the default hidden behavior on the sphinx rendered scikit-learn.org. See: https://github.com/scikit-learn/scikit-learn/issues/21755 */display: inline-block !important;position: relative;}#sk-container-id-2 div.sk-text-repr-fallback {display: none;}</style><div id=\"sk-container-id-2\" class=\"sk-top-container\"><div class=\"sk-text-repr-fallback\"><pre>LogisticRegression()</pre><b>In a Jupyter environment, please rerun this cell to show the HTML representation or trust the notebook. <br />On GitHub, the HTML representation is unable to render, please try loading this page with nbviewer.org.</b></div><div class=\"sk-container\" hidden><div class=\"sk-item\"><div class=\"sk-estimator sk-toggleable\"><input class=\"sk-toggleable__control sk-hidden--visually\" id=\"sk-estimator-id-2\" type=\"checkbox\" checked><label for=\"sk-estimator-id-2\" class=\"sk-toggleable__label sk-toggleable__label-arrow\">LogisticRegression</label><div class=\"sk-toggleable__content\"><pre>LogisticRegression()</pre></div></div></div></div></div>"
            ]
          },
          "metadata": {},
          "execution_count": 46
        }
      ]
    },
    {
      "cell_type": "markdown",
      "source": [
        "Make Predictions"
      ],
      "metadata": {
        "id": "eSuDHuTFNX7d"
      }
    },
    {
      "cell_type": "code",
      "source": [
        "y_pred = model.predict(X_test)"
      ],
      "metadata": {
        "id": "dTYZQ9A4NOas"
      },
      "execution_count": null,
      "outputs": []
    },
    {
      "cell_type": "markdown",
      "source": [
        "Evaluate the Model"
      ],
      "metadata": {
        "id": "U7rRgxzNNYp1"
      }
    },
    {
      "cell_type": "code",
      "source": [
        "accuracy = accuracy_score(y_test, y_pred)\n",
        "print(f\"\\nAccuracy of the model: {accuracy:.2f}\")"
      ],
      "metadata": {
        "colab": {
          "base_uri": "https://localhost:8080/"
        },
        "id": "y6FzdsB5NTJe",
        "outputId": "cb88dfe9-af3a-48d2-b65b-4f37e9560dd9"
      },
      "execution_count": null,
      "outputs": [
        {
          "output_type": "stream",
          "name": "stdout",
          "text": [
            "\n",
            "Accuracy of the model: 0.81\n"
          ]
        }
      ]
    },
    {
      "cell_type": "markdown",
      "source": [
        "Generate the confusion matrix"
      ],
      "metadata": {
        "id": "pR1XZMAxNlUW"
      }
    },
    {
      "cell_type": "code",
      "source": [
        "conf_matrix = confusion_matrix(y_test, y_pred)\n",
        "print(\"\\nConfusion Matrix:\")\n",
        "print(conf_matrix)"
      ],
      "metadata": {
        "colab": {
          "base_uri": "https://localhost:8080/"
        },
        "id": "hzbDF_HMNbg8",
        "outputId": "1d46ade7-6e53-4e9a-f7a5-5e65f4c3c899"
      },
      "execution_count": null,
      "outputs": [
        {
          "output_type": "stream",
          "name": "stdout",
          "text": [
            "\n",
            "Confusion Matrix:\n",
            "[[86 18]\n",
            " [10 36]]\n"
          ]
        }
      ]
    },
    {
      "cell_type": "markdown",
      "source": [
        "Generate the classification report"
      ],
      "metadata": {
        "id": "oz0_Vv_8NpcJ"
      }
    },
    {
      "cell_type": "code",
      "source": [
        "class_report = classification_report(y_test, y_pred)\n",
        "print(\"\\nClassification Report:\")\n",
        "print(class_report)"
      ],
      "metadata": {
        "colab": {
          "base_uri": "https://localhost:8080/"
        },
        "id": "1UoX6zptNqGr",
        "outputId": "c588a9ff-dedb-4037-d125-b93630ee9e74"
      },
      "execution_count": null,
      "outputs": [
        {
          "output_type": "stream",
          "name": "stdout",
          "text": [
            "\n",
            "Classification Report:\n",
            "              precision    recall  f1-score   support\n",
            "\n",
            "           0       0.90      0.83      0.86       104\n",
            "           1       0.67      0.78      0.72        46\n",
            "\n",
            "    accuracy                           0.81       150\n",
            "   macro avg       0.78      0.80      0.79       150\n",
            "weighted avg       0.83      0.81      0.82       150\n",
            "\n"
          ]
        }
      ]
    },
    {
      "cell_type": "markdown",
      "source": [
        "Visualize the Confusion Matrix"
      ],
      "metadata": {
        "id": "a8zUaWXrNyCG"
      }
    },
    {
      "cell_type": "code",
      "source": [
        "# Visualize the confusion matrix\n",
        "sns.heatmap(conf_matrix, annot=True, fmt='d', cmap='Blues')\n",
        "plt.title('Confusion Matrix')\n",
        "plt.xlabel('Predicted')\n",
        "plt.ylabel('Actual')\n",
        "plt.show()\n"
      ],
      "metadata": {
        "colab": {
          "base_uri": "https://localhost:8080/",
          "height": 472
        },
        "id": "TVN7-PvTN0-c",
        "outputId": "7be1c863-dc3c-442d-ab6e-70db08722b63"
      },
      "execution_count": null,
      "outputs": [
        {
          "output_type": "display_data",
          "data": {
            "text/plain": [
              "<Figure size 640x480 with 2 Axes>"
            ],
            "image/png": "[encoded data removed]"
          },
          "metadata": {}
        }
      ]
    },
    {
      "cell_type": "markdown",
      "source": [],
      "metadata": {
        "id": "WEcgTYHQD49h"
      }
    },
    {
      "cell_type": "markdown",
      "source": [],
      "metadata": {
        "id": "z9DLlwcCD5_F"
      }
    }
  ]
}